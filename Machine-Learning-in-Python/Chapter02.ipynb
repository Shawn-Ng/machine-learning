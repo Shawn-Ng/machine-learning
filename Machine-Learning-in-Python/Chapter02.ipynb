{
 "cells": [
  {
   "cell_type": "markdown",
   "metadata": {},
   "source": [
    "# Chapter 2: Understand the Problem by Understanding the Data\n",
    "\n",
    "Attributes (the variable used to make prediction), also known as:\n",
    "- Predictors\n",
    "- Features\n",
    "- Independent variables\n",
    "- Inputs\n",
    "\n",
    "Labels, also known as:\n",
    "- Outcomes\n",
    "- Targets\n",
    "- Dependent variables\n",
    "- Responses\n",
    "\n",
    "## Statistics\n",
    "- Check quantiles\n",
    "- Visualization of outliers using Quantile‐Quantile Plot\n",
    "- Handle outliers\n",
    "- Categorical data\n",
    "- Visualizing with parallel coordinates plots: useful for problems with more than a few attributes\n",
    "- Visualizing interrelationships between attributes and labels: scatterplot\n",
    "- Correlation\n",
    "- Visualizing attribute and label correlations using a heat map\n",
    "- Boxplot\n",
    "- Normalization in this case means centering and scaling each column so that a unit of attribute number 1 means the same thing as a unit of attribute number 2"
   ]
  }
 ],
 "metadata": {
  "kernelspec": {
   "display_name": "Python 3",
   "language": "python",
   "name": "python3"
  },
  "language_info": {
   "codemirror_mode": {
    "name": "ipython",
    "version": 3
   },
   "file_extension": ".py",
   "mimetype": "text/x-python",
   "name": "python",
   "nbconvert_exporter": "python",
   "pygments_lexer": "ipython3",
   "version": "3.6.3"
  }
 },
 "nbformat": 4,
 "nbformat_minor": 2
}
