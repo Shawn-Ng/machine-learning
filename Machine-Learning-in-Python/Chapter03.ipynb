{
 "cells": [
  {
   "cell_type": "markdown",
   "metadata": {},
   "source": [
    "# Chapter 3: Predictive Model Building: Balancing Performance, Complexity, and Big Data\n",
    "\n",
    "## Assessing Performance of Predictive Models\n",
    "For regression:\n",
    "- Mean squared error (MSE): $$(\\frac{1}{m}) \\sum_{i=1}^m (y_i - pred(x_i))^2$$\n",
    "- Mean absolute error (MAE): $$(\\frac{1}{m}) \\sum_{i=1}^m |y_i - pred(x_i)|$$\n",
    "\n",
    "## Achieving Harmony Between Model and Data\n",
    "- OLS (Ordinary least squares regression) can sometimes overfit a problem\n",
    "- 2 of the methods for adjusting OLS\n",
    "1. **Forward stepwise regression** to control over-fitting\n",
    "2. **Ridge regression**: Control overfitting by penalizing regression coefficients"
   ]
  }
 ],
 "metadata": {
  "kernelspec": {
   "display_name": "Python 3",
   "language": "python",
   "name": "python3"
  },
  "language_info": {
   "codemirror_mode": {
    "name": "ipython",
    "version": 3
   },
   "file_extension": ".py",
   "mimetype": "text/x-python",
   "name": "python",
   "nbconvert_exporter": "python",
   "pygments_lexer": "ipython3",
   "version": "3.6.3"
  }
 },
 "nbformat": 4,
 "nbformat_minor": 2
}
