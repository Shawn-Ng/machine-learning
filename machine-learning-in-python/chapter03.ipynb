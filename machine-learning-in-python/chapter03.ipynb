{
 "cells": [
  {
   "cell_type": "markdown",
   "metadata": {},
   "source": [
    "# Chapter 3: Predictive Model Building: Balancing Performance, Complexity, and Big Data\n",
    "\n",
    "## Assessing Performance of Predictive Models\n",
    "For regression:\n",
    "- Mean squared error (MSE): $$(\\frac{1}{m}) \\sum_{i=1}^m (y_i - pred(x_i))^2$$\n",
    "- Mean absolute error (MAE): $$(\\frac{1}{m}) \\sum_{i=1}^m |y_i - pred(x_i)|$$\n",
    "\n",
    "## Achieving Harmony Between Model and Data\n",
    "- OLS (Ordinary least squares regression) can sometimes overfit a problem\n",
    "- 2 of the methods for adjusting OLS\n",
    "1. **Forward stepwise regression** to control over-fitting\n",
    "2. **Ridge regression**: Control overfitting by penalizing regression coefficients"
   ]
  },
  {
   "cell_type": "markdown",
   "metadata": {},
   "source": [
    "---"
   ]
  },
  {
   "cell_type": "markdown",
   "metadata": {},
   "source": [
    "## Comparison of MSE, MAE and RMSE"
   ]
  },
  {
   "cell_type": "code",
   "execution_count": 1,
   "metadata": {},
   "outputs": [
    {
     "name": "stdout",
     "output_type": "stream",
     "text": [
      "Errors \n",
      "[1.0, 0.6000000000000001, 1.1999999999999997, -2.5, -2.4, 1.25]\n",
      "Squared Error\n",
      "[1.0, 0.3600000000000001, 1.4399999999999993, 6.25, 5.76, 1.5625]\n",
      "Absolute Value of Error\n",
      "[1.0, 0.6000000000000001, 1.1999999999999997, 2.5, 2.4, 1.25]\n",
      "MSE =  2.72875\n",
      "RMSE =  1.651892853668179\n",
      "MAE =  1.4916666666666665\n",
      "Target Variance =  7.570347222222222\n",
      "Target Standard Deviation =  2.7514263977475797\n"
     ]
    }
   ],
   "source": [
    "__author__ = 'shawn_ng'\n",
    "\n",
    "#here are some made-up numbers to start with\n",
    "target = [1.5, 2.1, 3.3, -4.7, -2.3, 0.75]\n",
    "prediction = [0.5, 1.5, 2.1, -2.2, 0.1, -0.5]\n",
    "\n",
    "error = []\n",
    "for i in range(len(target)):\n",
    "    error.append(target[i] - prediction[i])\n",
    "\n",
    "#print the errors\n",
    "print(\"Errors \",)\n",
    "print(error)\n",
    "#ans: [1.0, 0.60000000000000009, 1.1999999999999997, -2.5,\n",
    "#-2.3999999999999999, 1.25]\n",
    "\n",
    "#calculate the squared errors and absolute value of errors\n",
    "squaredError = []\n",
    "absError = []\n",
    "for val in error:\n",
    "    squaredError.append(val*val)\n",
    "    absError.append(abs(val))\n",
    "\n",
    "#print squared errors and absolute value of errors\n",
    "print(\"Squared Error\")\n",
    "print(squaredError)\n",
    "#ans: [1.0, 0.3600000000000001, 1.4399999999999993, 6.25,\n",
    "#5.7599999999999998, 1.5625]\n",
    "\n",
    "print(\"Absolute Value of Error\")\n",
    "print(absError)\n",
    "#ans: [1.0, 0.60000000000000009, 1.1999999999999997, 2.5,\n",
    "#2.3999999999999999, 1.25]\n",
    "\n",
    "#calculate and print mean squared error MSE\n",
    "print(\"MSE = \", sum(squaredError)/len(squaredError))\n",
    "#ans: 2.72875\n",
    "\n",
    "from math import sqrt\n",
    "#calculate and print square root of MSE (RMSE)\n",
    "print(\"RMSE = \", sqrt(sum(squaredError)/len(squaredError)))\n",
    "#ans: 1.65189285367\n",
    "\n",
    "#calculate and print mean absolute error MAE\n",
    "print(\"MAE = \", sum(absError)/len(absError))\n",
    "#ans: 1.49166666667\n",
    "\n",
    "#compare MSE to target variance\n",
    "targetDeviation = []\n",
    "targetMean = sum(target)/len(target)\n",
    "for val in target:\n",
    "    targetDeviation.append((val - targetMean)*(val - targetMean))\n",
    "\n",
    "#print the target variance\n",
    "print(\"Target Variance = \", sum(targetDeviation)/len(targetDeviation))\n",
    "#ans: 7.5703472222222219\n",
    "\n",
    "#print the the target standard deviation (square root of variance)\n",
    "print(\"Target Standard Deviation = \", sqrt(sum(targetDeviation)\n",
    "/len(targetDeviation)))\n",
    "#ans: 2.7514263977475797"
   ]
  },
  {
   "cell_type": "markdown",
   "metadata": {},
   "source": [
    "## Measuring Performance for Classifier Trained on Rocks-Versus-Mines"
   ]
  },
  {
   "cell_type": "code",
   "execution_count": null,
   "metadata": {
    "collapsed": true
   },
   "outputs": [],
   "source": [
    "__author__ = 'shawn_ng'\n",
    "#use scikit learn package to build classified on rocks-versus-mines data\n",
    "#assess classifier performance\n",
    "import urllib2\n",
    "import numpy\n",
    "import random\n",
    "from sklearn import datasets, linear_model\n",
    "from sklearn.metrics import roc_curve, auc\n",
    "import pylab as pl\n",
    "\n",
    "def confusionMatrix(predicted, actual, threshold):\n",
    "    if len(predicted) != len(actual): return -1\n",
    "    tp = 0.0\n",
    "    fp = 0.0\n",
    "    tn = 0.0\n",
    "    fn = 0.0\n",
    "    for i in range(len(actual)):\n",
    "        if actual[i] > 0.5: #labels that are 1.0 (positive examples)\n",
    "            if predicted[i] > threshold:\n",
    "                tp += 1.0 #correctly predicted positive\n",
    "            else:\n",
    "                fn += 1.0 #incorrectly predicted negative\n",
    "        else: #labels that are 0.0 (negative examples)\n",
    "            if predicted[i] < threshold:\n",
    "                tn += 1.0 #correctly predicted negative\n",
    "            else:\n",
    "                fp += 1.0 #incorrectly predicted positive\n",
    "    rtn = [tp, fn, fp, tn]\n",
    "    return rtn"
   ]
  }
 ],
 "metadata": {
  "kernelspec": {
   "display_name": "Python 3",
   "language": "python",
   "name": "python3"
  },
  "language_info": {
   "codemirror_mode": {
    "name": "ipython",
    "version": 3
   },
   "file_extension": ".py",
   "mimetype": "text/x-python",
   "name": "python",
   "nbconvert_exporter": "python",
   "pygments_lexer": "ipython3",
   "version": "3.6.3"
  }
 },
 "nbformat": 4,
 "nbformat_minor": 2
}
