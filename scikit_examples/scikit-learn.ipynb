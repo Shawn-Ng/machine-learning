{
 "cells": [
  {
   "cell_type": "markdown",
   "metadata": {},
   "source": [
    "# Basic example"
   ]
  },
  {
   "cell_type": "code",
   "execution_count": 1,
   "metadata": {
    "collapsed": true
   },
   "outputs": [],
   "source": [
    "import numpy as np\n",
    "from sklearn import neighbors, datasets, preprocessing\n",
    "from sklearn.model_selection import train_test_split"
   ]
  },
  {
   "cell_type": "code",
   "execution_count": 2,
   "metadata": {
    "collapsed": true
   },
   "outputs": [],
   "source": [
    "iris = datasets.load_iris()\n",
    "X, y = iris.data[:, :2], iris.target\n",
    "X_train, X_test, y_train, y_test = train_test_split(X, y, random_state=33)\n",
    "\n",
    "scaler = preprocessing.StandardScaler().fit(X_train)\n",
    "X_train = scaler.transform(X_train)\n",
    "X_test = scaler.transform(X_test)"
   ]
  },
  {
   "cell_type": "markdown",
   "metadata": {},
   "source": [
    "## kNN"
   ]
  },
  {
   "cell_type": "code",
   "execution_count": 3,
   "metadata": {
    "collapsed": true
   },
   "outputs": [],
   "source": [
    "knn = neighbors.KNeighborsClassifier(n_neighbors=5)\n",
    "knn.fit(X_train, y_train)\n",
    "y_pred = knn.predict(X_test)"
   ]
  },
  {
   "cell_type": "code",
   "execution_count": 4,
   "metadata": {
    "scrolled": true
   },
   "outputs": [
    {
     "name": "stdout",
     "output_type": "stream",
     "text": [
      "Accuracy_score: 0.631578947368\n",
      "classification_report:\n",
      "              precision    recall  f1-score   support\n",
      "\n",
      "          0       1.00      1.00      1.00         8\n",
      "          1       0.42      0.73      0.53        11\n",
      "          2       0.73      0.42      0.53        19\n",
      "\n",
      "avg / total       0.70      0.63      0.63        38\n",
      "\n",
      "confusion_matrix:\n",
      " [[ 8  0  0]\n",
      " [ 0  8  3]\n",
      " [ 0 11  8]]\n"
     ]
    }
   ],
   "source": [
    "from sklearn.metrics import accuracy_score, classification_report, confusion_matrix\n",
    "\n",
    "print(\"Accuracy_score:\", accuracy_score(y_test, y_pred))\n",
    "print(\"classification_report:\\n\", classification_report(y_test, y_pred))\n",
    "print(\"confusion_matrix:\\n\", confusion_matrix(y_test, y_pred))"
   ]
  },
  {
   "cell_type": "code",
   "execution_count": 5,
   "metadata": {},
   "outputs": [
    {
     "name": "stdout",
     "output_type": "stream",
     "text": [
      "mean_absolute_error: 0.368421052632\n",
      "Mean_squared_error 0.368421052632\n",
      "r2_score: 0.412154696133\n"
     ]
    }
   ],
   "source": [
    "from sklearn.metrics import mean_absolute_error, mean_squared_error, r2_score\n",
    "\n",
    "print(\"mean_absolute_error:\", mean_absolute_error(y_test, y_pred))\n",
    "print(\"Mean_squared_error\", mean_squared_error(y_test, y_pred))\n",
    "print(\"r2_score:\", r2_score(y_test, y_pred))"
   ]
  },
  {
   "cell_type": "code",
   "execution_count": 6,
   "metadata": {
    "scrolled": true
   },
   "outputs": [
    {
     "name": "stdout",
     "output_type": "stream",
     "text": [
      "adjusted_rand_score: 0.309611910983\n",
      "homogeneity_score 0.50657823472\n",
      "v_measure_score: 0.50657823472\n"
     ]
    }
   ],
   "source": [
    "from sklearn.metrics import adjusted_rand_score, homogeneity_score, v_measure_score\n",
    "\n",
    "print(\"adjusted_rand_score:\", adjusted_rand_score(y_test, y_pred))\n",
    "print(\"homogeneity_score\", homogeneity_score(y_test, y_pred))\n",
    "print(\"v_measure_score:\", v_measure_score(y_test, y_pred))"
   ]
  },
  {
   "cell_type": "markdown",
   "metadata": {},
   "source": [
    "## Linear regression"
   ]
  },
  {
   "cell_type": "code",
   "execution_count": 7,
   "metadata": {},
   "outputs": [
    {
     "data": {
      "text/plain": [
       "0.55626655930805857"
      ]
     },
     "execution_count": 7,
     "metadata": {},
     "output_type": "execute_result"
    }
   ],
   "source": [
    "from sklearn.linear_model import LinearRegression\n",
    "lr = LinearRegression(normalize=True)\n",
    "lr.fit(X_train, y_train)\n",
    "y_pred = lr.predict(X_test)\n",
    "\n",
    "# R^2 method\n",
    "lr.score(X_test, y_test)"
   ]
  },
  {
   "cell_type": "code",
   "execution_count": 8,
   "metadata": {},
   "outputs": [
    {
     "name": "stdout",
     "output_type": "stream",
     "text": [
      "Mean_absolute_error: 0.436537055729\n",
      "Mean_squared_error 0.278101636999\n",
      "r2_score: 0.556266559308\n"
     ]
    }
   ],
   "source": [
    "from sklearn.metrics import mean_absolute_error, mean_squared_error, r2_score\n",
    "\n",
    "print(\"Mean_absolute_error:\", mean_absolute_error(y_test, y_pred))\n",
    "print(\"Mean_squared_error\", mean_squared_error(y_test, y_pred))\n",
    "print(\"r2_score:\", r2_score(y_test, y_pred))"
   ]
  },
  {
   "cell_type": "code",
   "execution_count": 9,
   "metadata": {
    "scrolled": true
   },
   "outputs": [
    {
     "name": "stdout",
     "output_type": "stream",
     "text": [
      "adjusted_rand_score: 0.00151500804848\n",
      "homogeneity_score 0.916075718855\n",
      "v_measure_score: 0.419709760602\n"
     ]
    }
   ],
   "source": [
    "from sklearn.metrics import adjusted_rand_score, homogeneity_score, v_measure_score\n",
    "\n",
    "print(\"adjusted_rand_score:\", adjusted_rand_score(y_test, y_pred))\n",
    "print(\"homogeneity_score\", homogeneity_score(y_test, y_pred))\n",
    "print(\"v_measure_score:\", v_measure_score(y_test, y_pred))"
   ]
  },
  {
   "cell_type": "markdown",
   "metadata": {
    "collapsed": true
   },
   "source": [
    "## Naive bayes"
   ]
  },
  {
   "cell_type": "code",
   "execution_count": 10,
   "metadata": {
    "collapsed": true
   },
   "outputs": [],
   "source": [
    "from sklearn.naive_bayes import GaussianNB\n",
    "gnb = GaussianNB()\n",
    "gnb.fit(X_train, y_train)\n",
    "y_pred = gnb.predict(X_test)"
   ]
  },
  {
   "cell_type": "code",
   "execution_count": 11,
   "metadata": {
    "scrolled": true
   },
   "outputs": [
    {
     "name": "stdout",
     "output_type": "stream",
     "text": [
      "Accuracy_score: 0.710526315789\n",
      "classification_report:\n",
      "              precision    recall  f1-score   support\n",
      "\n",
      "          0       1.00      1.00      1.00         8\n",
      "          1       0.50      0.64      0.56        11\n",
      "          2       0.75      0.63      0.69        19\n",
      "\n",
      "avg / total       0.73      0.71      0.72        38\n",
      "\n",
      "confusion_matrix:\n",
      " [[ 8  0  0]\n",
      " [ 0  7  4]\n",
      " [ 0  7 12]]\n"
     ]
    }
   ],
   "source": [
    "from sklearn.metrics import accuracy_score, classification_report, confusion_matrix\n",
    "\n",
    "print(\"Accuracy_score:\", accuracy_score(y_test, y_pred))\n",
    "print(\"classification_report:\\n\", classification_report(y_test, y_pred))\n",
    "print(\"confusion_matrix:\\n\", confusion_matrix(y_test, y_pred))"
   ]
  },
  {
   "cell_type": "code",
   "execution_count": 12,
   "metadata": {
    "scrolled": true
   },
   "outputs": [
    {
     "name": "stdout",
     "output_type": "stream",
     "text": [
      "mean_absolute_error: 0.289473684211\n",
      "Mean_squared_error 0.289473684211\n",
      "r2_score: 0.538121546961\n"
     ]
    }
   ],
   "source": [
    "from sklearn.metrics import mean_absolute_error, mean_squared_error, r2_score\n",
    "\n",
    "print(\"mean_absolute_error:\", mean_absolute_error(y_test, y_pred))\n",
    "print(\"Mean_squared_error\", mean_squared_error(y_test, y_pred))\n",
    "print(\"r2_score:\", r2_score(y_test, y_pred))"
   ]
  },
  {
   "cell_type": "code",
   "execution_count": 13,
   "metadata": {
    "scrolled": true
   },
   "outputs": [
    {
     "name": "stdout",
     "output_type": "stream",
     "text": [
      "adjusted_rand_score: 0.347475429348\n",
      "homogeneity_score 0.523792125581\n",
      "v_measure_score: 0.517122818967\n"
     ]
    }
   ],
   "source": [
    "from sklearn.metrics import adjusted_rand_score, homogeneity_score, v_measure_score\n",
    "\n",
    "print(\"adjusted_rand_score:\", adjusted_rand_score(y_test, y_pred))\n",
    "print(\"homogeneity_score\", homogeneity_score(y_test, y_pred))\n",
    "print(\"v_measure_score:\", v_measure_score(y_test, y_pred))"
   ]
  },
  {
   "cell_type": "markdown",
   "metadata": {},
   "source": [
    "## SVM"
   ]
  },
  {
   "cell_type": "code",
   "execution_count": 14,
   "metadata": {},
   "outputs": [
    {
     "data": {
      "text/plain": [
       "0.71052631578947367"
      ]
     },
     "execution_count": 14,
     "metadata": {},
     "output_type": "execute_result"
    }
   ],
   "source": [
    "from sklearn.svm import SVC\n",
    "svc = SVC(kernel='linear')\n",
    "svc.fit(X_train, y_train)\n",
    "y_pred = svc.predict(X_test)\n",
    "\n",
    "svc.score(X_test, y_test)"
   ]
  },
  {
   "cell_type": "code",
   "execution_count": 15,
   "metadata": {
    "scrolled": false
   },
   "outputs": [
    {
     "name": "stdout",
     "output_type": "stream",
     "text": [
      "Accuracy_score: 0.710526315789\n",
      "classification_report:\n",
      "              precision    recall  f1-score   support\n",
      "\n",
      "          0       1.00      1.00      1.00         8\n",
      "          1       0.50      0.64      0.56        11\n",
      "          2       0.75      0.63      0.69        19\n",
      "\n",
      "avg / total       0.73      0.71      0.72        38\n",
      "\n",
      "confusion_matrix:\n",
      " [[ 8  0  0]\n",
      " [ 0  7  4]\n",
      " [ 0  7 12]]\n"
     ]
    }
   ],
   "source": [
    "from sklearn.metrics import accuracy_score, classification_report, confusion_matrix\n",
    "\n",
    "print(\"Accuracy_score:\", accuracy_score(y_test, y_pred))\n",
    "print(\"classification_report:\\n\", classification_report(y_test, y_pred))\n",
    "print(\"confusion_matrix:\\n\", confusion_matrix(y_test, y_pred))"
   ]
  },
  {
   "cell_type": "code",
   "execution_count": 16,
   "metadata": {
    "scrolled": true
   },
   "outputs": [
    {
     "name": "stdout",
     "output_type": "stream",
     "text": [
      "mean_absolute_error: 0.289473684211\n",
      "Mean_squared_error 0.289473684211\n",
      "r2_score: 0.538121546961\n"
     ]
    }
   ],
   "source": [
    "from sklearn.metrics import mean_absolute_error, mean_squared_error, r2_score\n",
    "\n",
    "print(\"mean_absolute_error:\", mean_absolute_error(y_test, y_pred))\n",
    "print(\"Mean_squared_error\", mean_squared_error(y_test, y_pred))\n",
    "print(\"r2_score:\", r2_score(y_test, y_pred))"
   ]
  },
  {
   "cell_type": "code",
   "execution_count": 17,
   "metadata": {
    "scrolled": true
   },
   "outputs": [
    {
     "name": "stdout",
     "output_type": "stream",
     "text": [
      "adjusted_rand_score: 0.347475429348\n",
      "homogeneity_score 0.523792125581\n",
      "v_measure_score: 0.517122818967\n"
     ]
    }
   ],
   "source": [
    "from sklearn.metrics import adjusted_rand_score, homogeneity_score, v_measure_score\n",
    "\n",
    "print(\"adjusted_rand_score:\", adjusted_rand_score(y_test, y_pred))\n",
    "print(\"homogeneity_score\", homogeneity_score(y_test, y_pred))\n",
    "print(\"v_measure_score:\", v_measure_score(y_test, y_pred))"
   ]
  },
  {
   "cell_type": "markdown",
   "metadata": {},
   "source": [
    "## Principal Component Analysis (PCA)"
   ]
  },
  {
   "cell_type": "code",
   "execution_count": 18,
   "metadata": {
    "collapsed": true
   },
   "outputs": [],
   "source": [
    "from sklearn.decomposition import PCA\n",
    "pca = PCA(n_components=0.95)\n",
    "pca_model = pca.fit_transform(X_train)"
   ]
  }
 ],
 "metadata": {
  "kernelspec": {
   "display_name": "Python 3",
   "language": "python",
   "name": "python3"
  },
  "language_info": {
   "codemirror_mode": {
    "name": "ipython",
    "version": 3
   },
   "file_extension": ".py",
   "mimetype": "text/x-python",
   "name": "python",
   "nbconvert_exporter": "python",
   "pygments_lexer": "ipython3",
   "version": "3.6.3"
  }
 },
 "nbformat": 4,
 "nbformat_minor": 2
}
