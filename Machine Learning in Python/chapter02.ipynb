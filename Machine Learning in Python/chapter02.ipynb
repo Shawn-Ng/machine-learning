{
 "cells": [
  {
   "cell_type": "markdown",
   "metadata": {},
   "source": [
    "# Chapter 2: Understand the Problem by Understanding the Data\n",
    "\n",
    "Attributes (the variable used to make prediction), also known as:\n",
    "- Predictors\n",
    "- Features\n",
    "- Independent variables\n",
    "- Inputs\n",
    "\n",
    "Labels, also known as:\n",
    "- Outcomes\n",
    "- Targets\n",
    "- Dependent variables\n",
    "- Responses\n",
    "\n",
    "## Statistics\n",
    "- Check quantiles\n",
    "- Visualization of outliers using Quantile‐Quantile Plot\n",
    "- Handle outliers\n",
    "- Categorical data\n",
    "- Visualizing with parallel coordinates plots: useful for problems with more than a few attributes\n",
    "- Visualizing interrelationships between attributes and labels: scatterplot\n",
    "- Correlation\n",
    "- Visualizing attribute and label correlations using a heat map\n",
    "- Boxplot\n",
    "- Normalization in this case means centering and scaling each column so that a unit of attribute number 1 means the same thing as a unit of attribute number 2"
   ]
  },
  {
   "cell_type": "markdown",
   "metadata": {},
   "source": [
    "## Physical Characteristics of the Rocks Versus Mines Data Set"
   ]
  },
  {
   "cell_type": "code",
   "execution_count": 1,
   "metadata": {},
   "outputs": [],
   "source": [
    "__author__ = 'shawn_ng'\n",
    "import requests\n",
    "import sys"
   ]
  },
  {
   "cell_type": "code",
   "execution_count": 2,
   "metadata": {},
   "outputs": [],
   "source": [
    "#read data from uci data repository\n",
    "target_url = (\"https://archive.ics.uci.edu/ml/machine-learning-databases/undocumented/connectionist-bench/sonar/sonar.all-data\")\n",
    "\n",
    "data = requests.get(target_url).text"
   ]
  },
  {
   "cell_type": "code",
   "execution_count": 3,
   "metadata": {
    "scrolled": true
   },
   "outputs": [
    {
     "name": "stdout",
     "output_type": "stream",
     "text": [
      "Col#\tNumber\tStrings\tOther\n",
      "0\t208\t0\t0\n",
      "1\t208\t0\t0\n",
      "2\t208\t0\t0\n",
      "3\t208\t0\t0\n",
      "4\t208\t0\t0\n",
      "5\t208\t0\t0\n",
      "6\t208\t0\t0\n",
      "7\t208\t0\t0\n",
      "8\t208\t0\t0\n",
      "9\t208\t0\t0\n",
      "10\t208\t0\t0\n",
      "11\t208\t0\t0\n",
      "12\t208\t0\t0\n",
      "13\t208\t0\t0\n",
      "14\t208\t0\t0\n",
      "15\t208\t0\t0\n",
      "16\t208\t0\t0\n",
      "17\t208\t0\t0\n",
      "18\t208\t0\t0\n",
      "19\t208\t0\t0\n",
      "20\t208\t0\t0\n",
      "21\t208\t0\t0\n",
      "22\t208\t0\t0\n",
      "23\t208\t0\t0\n",
      "24\t208\t0\t0\n",
      "25\t208\t0\t0\n",
      "26\t208\t0\t0\n",
      "27\t208\t0\t0\n",
      "28\t208\t0\t0\n",
      "29\t208\t0\t0\n",
      "30\t208\t0\t0\n",
      "31\t208\t0\t0\n",
      "32\t208\t0\t0\n",
      "33\t208\t0\t0\n",
      "34\t208\t0\t0\n",
      "35\t208\t0\t0\n",
      "36\t208\t0\t0\n",
      "37\t208\t0\t0\n",
      "38\t208\t0\t0\n",
      "39\t208\t0\t0\n",
      "40\t208\t0\t0\n",
      "41\t208\t0\t0\n",
      "42\t208\t0\t0\n",
      "43\t208\t0\t0\n",
      "44\t208\t0\t0\n",
      "45\t208\t0\t0\n",
      "46\t208\t0\t0\n",
      "47\t208\t0\t0\n",
      "48\t208\t0\t0\n",
      "49\t208\t0\t0\n",
      "50\t208\t0\t0\n",
      "51\t208\t0\t0\n",
      "52\t208\t0\t0\n",
      "53\t208\t0\t0\n",
      "54\t208\t0\t0\n",
      "55\t208\t0\t0\n",
      "56\t208\t0\t0\n",
      "57\t208\t0\t0\n",
      "58\t208\t0\t0\n",
      "59\t208\t0\t0\n",
      "60\t0\t208\t0\n"
     ]
    }
   ],
   "source": [
    "# arrange data into list for labels and list of lists for attributes\n",
    "xList = []\n",
    "labels = []\n",
    "for line in data.splitlines():\n",
    "    # split on comma\n",
    "    row = line.strip().split(\",\")\n",
    "    xList.append(row)\n",
    "\n",
    "nrow = len(xList)\n",
    "ncol = len(xList[1])\n",
    "\n",
    "type = [0]*3\n",
    "colCounts = []\n",
    "\n",
    "for col in range(ncol):\n",
    "    for row in xList:\n",
    "        try:\n",
    "            a = float(row[col])\n",
    "            if isinstance(a, float):\n",
    "                type[0] += 1\n",
    "        except ValueError:\n",
    "            if len(row[col]) > 0:\n",
    "                type[1] += 1\n",
    "            else:\n",
    "                type[2] += 1\n",
    "    \n",
    "    colCounts.append(type)\n",
    "    type = [0]*3\n",
    "\n",
    "sys.stdout.write(\"Col#\" + '\\t' + \"Number\" + \"\\t\" + \"Strings\" + \"\\t\" + \"Other\\n\")\n",
    "iCol = 0\n",
    "for types in colCounts:\n",
    "    sys.stdout.write(str(iCol) + '\\t' + str(types[0]) \n",
    "                     + '\\t' + str(types[1]) + '\\t' \n",
    "                     + str(types[2]) + '\\n')\n",
    "    iCol += 1\n",
    "    \n",
    "# sys.stdout.write('Number of Rows of Data = ' + str(len(xList)) + '\\n')\n",
    "# sys.stdout.write('Number of Columns of Data = ' + str(len(xList[1])))"
   ]
  },
  {
   "cell_type": "code",
   "execution_count": null,
   "metadata": {
    "collapsed": true
   },
   "outputs": [],
   "source": []
  }
 ],
 "metadata": {
  "kernelspec": {
   "display_name": "Python 3",
   "language": "python",
   "name": "python3"
  },
  "language_info": {
   "codemirror_mode": {
    "name": "ipython",
    "version": 3
   },
   "file_extension": ".py",
   "mimetype": "text/x-python",
   "name": "python",
   "nbconvert_exporter": "python",
   "pygments_lexer": "ipython3",
   "version": "3.6.3"
  }
 },
 "nbformat": 4,
 "nbformat_minor": 2
}
