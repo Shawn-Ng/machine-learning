{
 "cells": [
  {
   "cell_type": "markdown",
   "metadata": {},
   "source": [
    "# Chapter 1: The Two Essential Algorithms for Making Predictions\n",
    "\n",
    "## 2 useful algorithms:\n",
    "1. Penalized linear regression (Logistic regression is a close relative)\n",
    "2. Ensemble methods (boosted decision trees, Random Forests, bagged decision trees)\n",
    "\n",
    "- Provide <u>optimum or near optimum</u> performance on the vast majority of predictive analytics (function approximation) problems. including <u>big data sets, little data sets, wide data sets, tall skinny data sets, complicated problems, and simple problems</u>\n",
    "- Attributes that <span style='color:blue'>relate directly</span> to the outcomes being predicted are a blessing\n",
    "- Attributes that are unrelated to the outcomes are a curse\n",
    "- An important benefit of the penalized linear regression models that the book covers is the **speed** at which they train\n",
    "- Feature selection or feature engineering: chooses the variables that will be used to predict outcomes\n",
    "\n",
    "## Penalized Regression Methods\n",
    "- Penalized linear regression is a derivative of ordinary least squares (OLS) regression\n",
    "- OLS sometimes overfits the problem\n",
    "- When the number of degrees of freedom is equal to the number of points, the predictions are not very good\n",
    "- Penalized linear regression provides a way to systematically reduce degrees of freedom to match the amount of data available and the complexity of the underlying phenomena\n",
    "\n",
    "## Ensemble Methods\n",
    "- The basic idea with ensemble methods is to build a group of different predictive models and then combine their outputs by averaging the outputs or taking the majority answer\n",
    "- The individual models are called base learners\n",
    "- **Bagging** (short for bootstrap aggregating): One way to get differing models is to take random samples of the training data and train on these random subsets"
   ]
  }
 ],
 "metadata": {
  "kernelspec": {
   "display_name": "Python 3",
   "language": "python",
   "name": "python3"
  },
  "language_info": {
   "codemirror_mode": {
    "name": "ipython",
    "version": 3
   },
   "file_extension": ".py",
   "mimetype": "text/x-python",
   "name": "python",
   "nbconvert_exporter": "python",
   "pygments_lexer": "ipython3",
   "version": "3.6.3"
  }
 },
 "nbformat": 4,
 "nbformat_minor": 2
}
